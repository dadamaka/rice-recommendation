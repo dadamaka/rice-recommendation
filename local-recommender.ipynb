{
 "cells": [
  {
   "cell_type": "code",
   "execution_count": 1,
   "metadata": {
    "collapsed": true
   },
   "outputs": [],
   "source": [
    "import graphlab as gl"
   ]
  },
  {
   "cell_type": "code",
   "execution_count": 18,
   "metadata": {
    "collapsed": true
   },
   "outputs": [],
   "source": [
    "def _user_exists(rating_data, user_id):\n",
    "    if not rating_data:\n",
    "        return False\n",
    "    return user_id in rating_data['user_id']\n",
    "\n",
    "class Recommender:\n",
    "    def __init__(self, user_rating_filepath, restaurant_cuisine_filepath):\n",
    "        self.rating_data = gl.SFrame.read_csv(user_rating_filepath, column_type_hints={\"rating\":int})\n",
    "        self.restaurant_cuisine_data = gl.SFrame.read_csv(restaurant_cuisine_filepath)\n",
    "        self.new_rating_data = {}\n",
    "        self.restaurant_recommender = gl.item_similarity_recommender.create(\n",
    "            self.rating_data,\n",
    "            target=\"rating\",\n",
    "            verbose=False)\n",
    "        self.popularity_recommender = gl.popularity_recommender.create(\n",
    "            self.rating_data,\n",
    "            target=\"rating\",\n",
    "            verbose=False)\n",
    "        \n",
    "    def recommend(self, user_id, query=None):\n",
    "        recommender = self.restaurant_recommender # if self.__is_not_new_user(user_id) else self.popularity_recommender\n",
    "        user_rating_data = self.new_rating_data.get(user_id)\n",
    "        top_items = recommender.recommend(\n",
    "            users=[user_id],\n",
    "            k=5,\n",
    "            items=self.__filter_restaurants(query) if query else None,\n",
    "            new_observation_data=user_rating_data,\n",
    "            exclude_known=False if query else True,\n",
    "            verbose=False)\n",
    "        return top_items, user_rating_data\n",
    "    \n",
    "    def add_rating(self, user_id, restaurant_id, rating):\n",
    "        row = gl.SFrame({\n",
    "                'user_id': [user_id],\n",
    "                'item_id': [restaurant_id],\n",
    "                'rating': [rating]\n",
    "        })\n",
    "        user_rating_data = self.new_rating_data.get(user_id)\n",
    "        if user_rating_data:\n",
    "            user_rating_data = user_rating_data.append(row)\n",
    "        else:\n",
    "            user_rating_data = row\n",
    "        self.new_rating_data[user_id] = user_rating_data\n",
    "        \n",
    "    def __filter_restaurants(self, query):\n",
    "        query = query.lower().encode('utf-8')\n",
    "        cuisine_filter = self.restaurant_cuisine_data['cuisine'].apply(lambda x: query in x.lower())\n",
    "        return self.restaurant_cuisine_data[cuisine_filter]['item_id']\n",
    "    \n",
    "    def __is_not_new_user(self, user_id):\n",
    "        return _user_exists(self.new_rating_data, user_id)"
   ]
  },
  {
   "cell_type": "code",
   "execution_count": 19,
   "metadata": {
    "collapsed": false
   },
   "outputs": [
    {
     "data": {
      "text/html": [
       "<pre>Finished parsing file /Users/danielconger/Desktop/thesis-python-ml/data/user_restaurant_rating.csv</pre>"
      ],
      "text/plain": [
       "Finished parsing file /Users/danielconger/Desktop/thesis-python-ml/data/user_restaurant_rating.csv"
      ]
     },
     "metadata": {},
     "output_type": "display_data"
    },
    {
     "data": {
      "text/html": [
       "<pre>Parsing completed. Parsed 100 lines in 0.277742 secs.</pre>"
      ],
      "text/plain": [
       "Parsing completed. Parsed 100 lines in 0.277742 secs."
      ]
     },
     "metadata": {},
     "output_type": "display_data"
    },
    {
     "data": {
      "text/html": [
       "<pre>Finished parsing file /Users/danielconger/Desktop/thesis-python-ml/data/user_restaurant_rating.csv</pre>"
      ],
      "text/plain": [
       "Finished parsing file /Users/danielconger/Desktop/thesis-python-ml/data/user_restaurant_rating.csv"
      ]
     },
     "metadata": {},
     "output_type": "display_data"
    },
    {
     "data": {
      "text/html": [
       "<pre>Parsing completed. Parsed 103428 lines in 0.17841 secs.</pre>"
      ],
      "text/plain": [
       "Parsing completed. Parsed 103428 lines in 0.17841 secs."
      ]
     },
     "metadata": {},
     "output_type": "display_data"
    },
    {
     "data": {
      "text/html": [
       "<pre>Finished parsing file /Users/danielconger/Desktop/thesis-python-ml/data/restaurant_cuisine.csv</pre>"
      ],
      "text/plain": [
       "Finished parsing file /Users/danielconger/Desktop/thesis-python-ml/data/restaurant_cuisine.csv"
      ]
     },
     "metadata": {},
     "output_type": "display_data"
    },
    {
     "data": {
      "text/html": [
       "<pre>Parsing completed. Parsed 100 lines in 0.030677 secs.</pre>"
      ],
      "text/plain": [
       "Parsing completed. Parsed 100 lines in 0.030677 secs."
      ]
     },
     "metadata": {},
     "output_type": "display_data"
    },
    {
     "data": {
      "text/html": [
       "<pre>Finished parsing file /Users/danielconger/Desktop/thesis-python-ml/data/restaurant_cuisine.csv</pre>"
      ],
      "text/plain": [
       "Finished parsing file /Users/danielconger/Desktop/thesis-python-ml/data/restaurant_cuisine.csv"
      ]
     },
     "metadata": {},
     "output_type": "display_data"
    },
    {
     "data": {
      "text/html": [
       "<pre>Parsing completed. Parsed 4366 lines in 0.019631 secs.</pre>"
      ],
      "text/plain": [
       "Parsing completed. Parsed 4366 lines in 0.019631 secs."
      ]
     },
     "metadata": {},
     "output_type": "display_data"
    },
    {
     "data": {
      "text/html": [
       "<pre>Recsys training: model = item_similarity</pre>"
      ],
      "text/plain": [
       "Recsys training: model = item_similarity"
      ]
     },
     "metadata": {},
     "output_type": "display_data"
    },
    {
     "data": {
      "text/html": [
       "<pre>Recsys training: model = popularity</pre>"
      ],
      "text/plain": [
       "Recsys training: model = popularity"
      ]
     },
     "metadata": {},
     "output_type": "display_data"
    },
    {
     "name": "stdout",
     "output_type": "stream",
     "text": [
      "------------------------------------------------------\n",
      "Inferred types from first 100 line(s) of file as \n",
      "column_type_hints=[str,str,str]\n",
      "If parsing fails due to incorrect types, you can correct\n",
      "the inferred type list above and pass it to read_csv in\n",
      "the column_type_hints argument\n",
      "------------------------------------------------------\n"
     ]
    }
   ],
   "source": [
    "recommendation_engine = Recommender(\"data/user_restaurant_rating.csv\", \"data/restaurant_cuisine.csv\")"
   ]
  },
  {
   "cell_type": "code",
   "execution_count": 20,
   "metadata": {
    "collapsed": false
   },
   "outputs": [
    {
     "data": {
      "text/html": [
       "<div style=\"max-height:1000px;max-width:1500px;overflow:auto;\"><table frame=\"box\" rules=\"cols\">\n",
       "    <tr>\n",
       "        <th style=\"padding-left: 1em; padding-right: 1em; text-align: center\">user_id</th>\n",
       "        <th style=\"padding-left: 1em; padding-right: 1em; text-align: center\">item_id</th>\n",
       "        <th style=\"padding-left: 1em; padding-right: 1em; text-align: center\">score</th>\n",
       "        <th style=\"padding-left: 1em; padding-right: 1em; text-align: center\">rank</th>\n",
       "    </tr>\n",
       "    <tr>\n",
       "        <td style=\"padding-left: 1em; padding-right: 1em; text-align: center; vertical-align: top\">ZY1qKEWM8mUYTpyQYXfxKg</td>\n",
       "        <td style=\"padding-left: 1em; padding-right: 1em; text-align: center; vertical-align: top\">s5-VDvUqyYnD8RG3LPqnbQ</td>\n",
       "        <td style=\"padding-left: 1em; padding-right: 1em; text-align: center; vertical-align: top\">0.0121893400238</td>\n",
       "        <td style=\"padding-left: 1em; padding-right: 1em; text-align: center; vertical-align: top\">1</td>\n",
       "    </tr>\n",
       "    <tr>\n",
       "        <td style=\"padding-left: 1em; padding-right: 1em; text-align: center; vertical-align: top\">ZY1qKEWM8mUYTpyQYXfxKg</td>\n",
       "        <td style=\"padding-left: 1em; padding-right: 1em; text-align: center; vertical-align: top\">mgN7A6Uw8ObmoTNZvx6VOg</td>\n",
       "        <td style=\"padding-left: 1em; padding-right: 1em; text-align: center; vertical-align: top\">0.0116578662206</td>\n",
       "        <td style=\"padding-left: 1em; padding-right: 1em; text-align: center; vertical-align: top\">2</td>\n",
       "    </tr>\n",
       "    <tr>\n",
       "        <td style=\"padding-left: 1em; padding-right: 1em; text-align: center; vertical-align: top\">ZY1qKEWM8mUYTpyQYXfxKg</td>\n",
       "        <td style=\"padding-left: 1em; padding-right: 1em; text-align: center; vertical-align: top\">6X01fXVzhCght4ZJ9Ei2JQ</td>\n",
       "        <td style=\"padding-left: 1em; padding-right: 1em; text-align: center; vertical-align: top\">0.0105137768246</td>\n",
       "        <td style=\"padding-left: 1em; padding-right: 1em; text-align: center; vertical-align: top\">3</td>\n",
       "    </tr>\n",
       "    <tr>\n",
       "        <td style=\"padding-left: 1em; padding-right: 1em; text-align: center; vertical-align: top\">ZY1qKEWM8mUYTpyQYXfxKg</td>\n",
       "        <td style=\"padding-left: 1em; padding-right: 1em; text-align: center; vertical-align: top\">i3ogCoQD4MY_sR73GCk-BA</td>\n",
       "        <td style=\"padding-left: 1em; padding-right: 1em; text-align: center; vertical-align: top\">0.0102148292557</td>\n",
       "        <td style=\"padding-left: 1em; padding-right: 1em; text-align: center; vertical-align: top\">4</td>\n",
       "    </tr>\n",
       "    <tr>\n",
       "        <td style=\"padding-left: 1em; padding-right: 1em; text-align: center; vertical-align: top\">ZY1qKEWM8mUYTpyQYXfxKg</td>\n",
       "        <td style=\"padding-left: 1em; padding-right: 1em; text-align: center; vertical-align: top\">3MIy-ca6QVtKWXNzerQxWw</td>\n",
       "        <td style=\"padding-left: 1em; padding-right: 1em; text-align: center; vertical-align: top\">0.0101740852235</td>\n",
       "        <td style=\"padding-left: 1em; padding-right: 1em; text-align: center; vertical-align: top\">5</td>\n",
       "    </tr>\n",
       "</table>\n",
       "[5 rows x 4 columns]<br/>\n",
       "</div>"
      ],
      "text/plain": [
       "Columns:\n",
       "\tuser_id\tstr\n",
       "\titem_id\tstr\n",
       "\tscore\tfloat\n",
       "\trank\tint\n",
       "\n",
       "Rows: 5\n",
       "\n",
       "Data:\n",
       "+------------------------+------------------------+-----------------+------+\n",
       "|        user_id         |        item_id         |      score      | rank |\n",
       "+------------------------+------------------------+-----------------+------+\n",
       "| ZY1qKEWM8mUYTpyQYXfxKg | s5-VDvUqyYnD8RG3LPqnbQ | 0.0121893400238 |  1   |\n",
       "| ZY1qKEWM8mUYTpyQYXfxKg | mgN7A6Uw8ObmoTNZvx6VOg | 0.0116578662206 |  2   |\n",
       "| ZY1qKEWM8mUYTpyQYXfxKg | 6X01fXVzhCght4ZJ9Ei2JQ | 0.0105137768246 |  3   |\n",
       "| ZY1qKEWM8mUYTpyQYXfxKg | i3ogCoQD4MY_sR73GCk-BA | 0.0102148292557 |  4   |\n",
       "| ZY1qKEWM8mUYTpyQYXfxKg | 3MIy-ca6QVtKWXNzerQxWw | 0.0101740852235 |  5   |\n",
       "+------------------------+------------------------+-----------------+------+\n",
       "[5 rows x 4 columns]"
      ]
     },
     "execution_count": 20,
     "metadata": {},
     "output_type": "execute_result"
    }
   ],
   "source": [
    "top_items, user_rating_data  = recommendation_engine.recommend('ZY1qKEWM8mUYTpyQYXfxKg', 'italian')\n",
    "top_items"
   ]
  },
  {
   "cell_type": "code",
   "execution_count": 14,
   "metadata": {
    "collapsed": true
   },
   "outputs": [],
   "source": [
    "recommendation_engine.add_rating('ZY1qKEWM8mUYTpyQYXfxKg', '8buIr1zBCO7OEcAQSZko7w', 4)"
   ]
  },
  {
   "cell_type": "code",
   "execution_count": 16,
   "metadata": {
    "collapsed": false
   },
   "outputs": [
    {
     "data": {
      "text/html": [
       "<div style=\"max-height:1000px;max-width:1500px;overflow:auto;\"><table frame=\"box\" rules=\"cols\">\n",
       "    <tr>\n",
       "        <th style=\"padding-left: 1em; padding-right: 1em; text-align: center\">item_id</th>\n",
       "        <th style=\"padding-left: 1em; padding-right: 1em; text-align: center\">rating</th>\n",
       "        <th style=\"padding-left: 1em; padding-right: 1em; text-align: center\">user_id</th>\n",
       "    </tr>\n",
       "    <tr>\n",
       "        <td style=\"padding-left: 1em; padding-right: 1em; text-align: center; vertical-align: top\">8buIr1zBCO7OEcAQSZko7w</td>\n",
       "        <td style=\"padding-left: 1em; padding-right: 1em; text-align: center; vertical-align: top\">4</td>\n",
       "        <td style=\"padding-left: 1em; padding-right: 1em; text-align: center; vertical-align: top\">ZY1qKEWM8mUYTpyQYXfxKg</td>\n",
       "    </tr>\n",
       "</table>\n",
       "[1 rows x 3 columns]<br/>\n",
       "</div>"
      ],
      "text/plain": [
       "Columns:\n",
       "\titem_id\tstr\n",
       "\trating\tint\n",
       "\tuser_id\tstr\n",
       "\n",
       "Rows: 1\n",
       "\n",
       "Data:\n",
       "+------------------------+--------+------------------------+\n",
       "|        item_id         | rating |        user_id         |\n",
       "+------------------------+--------+------------------------+\n",
       "| 8buIr1zBCO7OEcAQSZko7w |   4    | ZY1qKEWM8mUYTpyQYXfxKg |\n",
       "+------------------------+--------+------------------------+\n",
       "[1 rows x 3 columns]"
      ]
     },
     "execution_count": 16,
     "metadata": {},
     "output_type": "execute_result"
    }
   ],
   "source": [
    "user_rating_data"
   ]
  },
  {
   "cell_type": "code",
   "execution_count": 17,
   "metadata": {
    "collapsed": false
   },
   "outputs": [
    {
     "data": {
      "text/plain": [
       "{'ZY1qKEWM8mUYTpyQYXfxKg': Columns:\n",
       " \titem_id\tstr\n",
       " \trating\tint\n",
       " \tuser_id\tstr\n",
       " \n",
       " Rows: 1\n",
       " \n",
       " Data:\n",
       " +------------------------+--------+------------------------+\n",
       " |        item_id         | rating |        user_id         |\n",
       " +------------------------+--------+------------------------+\n",
       " | 8buIr1zBCO7OEcAQSZko7w |   4    | ZY1qKEWM8mUYTpyQYXfxKg |\n",
       " +------------------------+--------+------------------------+\n",
       " [1 rows x 3 columns]}"
      ]
     },
     "execution_count": 17,
     "metadata": {},
     "output_type": "execute_result"
    }
   ],
   "source": [
    "recommendation_engine.new_rating_data"
   ]
  },
  {
   "cell_type": "code",
   "execution_count": null,
   "metadata": {
    "collapsed": true
   },
   "outputs": [],
   "source": []
  }
 ],
 "metadata": {
  "kernelspec": {
   "display_name": "Python 2",
   "language": "python",
   "name": "python2"
  },
  "language_info": {
   "codemirror_mode": {
    "name": "ipython",
    "version": 2
   },
   "file_extension": ".py",
   "mimetype": "text/x-python",
   "name": "python",
   "nbconvert_exporter": "python",
   "pygments_lexer": "ipython2",
   "version": "2.7.11"
  }
 },
 "nbformat": 4,
 "nbformat_minor": 0
}
