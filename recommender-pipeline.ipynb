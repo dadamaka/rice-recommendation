{
 "cells": [
  {
   "cell_type": "code",
   "execution_count": 1,
   "metadata": {
    "collapsed": true
   },
   "outputs": [],
   "source": [
    "import graphlab as gl"
   ]
  },
  {
   "cell_type": "code",
   "execution_count": 2,
   "metadata": {
    "collapsed": false
   },
   "outputs": [
    {
     "name": "stderr",
     "output_type": "stream",
     "text": [
      "[INFO] graphlab.deploy.job: Validating job.\n",
      "INFO:graphlab.deploy.job:Validating job.\n",
      "[INFO] graphlab.cython.cy_server: GraphLab Create v1.10.1 started. Logging: /tmp/graphlab_server_1466882267.log\n",
      "INFO:graphlab.cython.cy_server:GraphLab Create v1.10.1 started. Logging: /tmp/graphlab_server_1466882267.log\n",
      "[INFO] graphlab.deploy.job: Creating a LocalAsync environment called 'async'.\n",
      "INFO:graphlab.deploy.job:Creating a LocalAsync environment called 'async'.\n",
      "[INFO] graphlab.deploy.job: Validation complete. Job: 'my_batch_job-Jun-25-2016-12-17-47' ready for execution.\n",
      "INFO:graphlab.deploy.job:Validation complete. Job: 'my_batch_job-Jun-25-2016-12-17-47' ready for execution.\n",
      "[INFO] graphlab.deploy.job: Job: 'my_batch_job-Jun-25-2016-12-17-47' scheduled.\n",
      "INFO:graphlab.deploy.job:Job: 'my_batch_job-Jun-25-2016-12-17-47' scheduled.\n"
     ]
    },
    {
     "name": "stdout",
     "output_type": "stream",
     "text": [
      "This non-commercial license of GraphLab Create is assigned to dconger2@gmail.com and will expire on June 21, 2017. For commercial licensing options, visit https://dato.com/buy/.\n"
     ]
    }
   ],
   "source": [
    "def clean_data(path):\n",
    "    import graphlab as gl\n",
    "    sf = gl.SFrame.read_csv(path, column_type_hints={\"rating\":int})\n",
    "    sf = sf.sample(0.001)\n",
    "    return sf\n",
    "\n",
    "def train_model(data):\n",
    "    import graphlab as gl\n",
    "    model = gl.recommender.create(data, target='rating', verbose=False)\n",
    "    return model\n",
    "\n",
    "def gen_recs(model, data):\n",
    "    recs = model.recommend(data['user_id'])\n",
    "    return recs\n",
    "\n",
    "def my_batch_job(path):\n",
    "    data = clean_data(path)\n",
    "    model = train_model(data)\n",
    "    recs = gen_recs(model, data)\n",
    "    return recs\n",
    "\n",
    "job = gl.deploy.job.create(my_batch_job, path=\"data/user_restaurant_rating.csv\")"
   ]
  },
  {
   "cell_type": "code",
   "execution_count": 3,
   "metadata": {
    "collapsed": false
   },
   "outputs": [
    {
     "data": {
      "text/plain": [
       "u'Completed'"
      ]
     },
     "execution_count": 3,
     "metadata": {},
     "output_type": "execute_result"
    }
   ],
   "source": [
    "job.get_status()"
   ]
  },
  {
   "cell_type": "code",
   "execution_count": 4,
   "metadata": {
    "collapsed": true
   },
   "outputs": [],
   "source": [
    "recs = job.get_results()"
   ]
  },
  {
   "cell_type": "code",
   "execution_count": 5,
   "metadata": {
    "collapsed": false
   },
   "outputs": [
    {
     "data": {
      "text/html": [
       "<div style=\"max-height:1000px;max-width:1500px;overflow:auto;\"><table frame=\"box\" rules=\"cols\">\n",
       "    <tr>\n",
       "        <th style=\"padding-left: 1em; padding-right: 1em; text-align: center\">user_id</th>\n",
       "        <th style=\"padding-left: 1em; padding-right: 1em; text-align: center\">item_id</th>\n",
       "        <th style=\"padding-left: 1em; padding-right: 1em; text-align: center\">score</th>\n",
       "        <th style=\"padding-left: 1em; padding-right: 1em; text-align: center\">rank</th>\n",
       "    </tr>\n",
       "    <tr>\n",
       "        <td style=\"padding-left: 1em; padding-right: 1em; text-align: center; vertical-align: top\">tvXM9NGfiQIEAnvkOSQo1w</td>\n",
       "        <td style=\"padding-left: 1em; padding-right: 1em; text-align: center; vertical-align: top\">U2dZYCgkuS9SGgyKaCUlbQ</td>\n",
       "        <td style=\"padding-left: 1em; padding-right: 1em; text-align: center; vertical-align: top\">3.5911135989</td>\n",
       "        <td style=\"padding-left: 1em; padding-right: 1em; text-align: center; vertical-align: top\">1</td>\n",
       "    </tr>\n",
       "    <tr>\n",
       "        <td style=\"padding-left: 1em; padding-right: 1em; text-align: center; vertical-align: top\">tvXM9NGfiQIEAnvkOSQo1w</td>\n",
       "        <td style=\"padding-left: 1em; padding-right: 1em; text-align: center; vertical-align: top\">3AlN2XZ0I0F8650y2yjLWA</td>\n",
       "        <td style=\"padding-left: 1em; padding-right: 1em; text-align: center; vertical-align: top\">3.58434148167</td>\n",
       "        <td style=\"padding-left: 1em; padding-right: 1em; text-align: center; vertical-align: top\">2</td>\n",
       "    </tr>\n",
       "    <tr>\n",
       "        <td style=\"padding-left: 1em; padding-right: 1em; text-align: center; vertical-align: top\">tvXM9NGfiQIEAnvkOSQo1w</td>\n",
       "        <td style=\"padding-left: 1em; padding-right: 1em; text-align: center; vertical-align: top\">l3L25Yg_8E11tsS2D8ml-g</td>\n",
       "        <td style=\"padding-left: 1em; padding-right: 1em; text-align: center; vertical-align: top\">3.5401365516</td>\n",
       "        <td style=\"padding-left: 1em; padding-right: 1em; text-align: center; vertical-align: top\">3</td>\n",
       "    </tr>\n",
       "    <tr>\n",
       "        <td style=\"padding-left: 1em; padding-right: 1em; text-align: center; vertical-align: top\">tvXM9NGfiQIEAnvkOSQo1w</td>\n",
       "        <td style=\"padding-left: 1em; padding-right: 1em; text-align: center; vertical-align: top\">sIyHTizqAiGu12XMLX3N3g</td>\n",
       "        <td style=\"padding-left: 1em; padding-right: 1em; text-align: center; vertical-align: top\">3.51550889213</td>\n",
       "        <td style=\"padding-left: 1em; padding-right: 1em; text-align: center; vertical-align: top\">4</td>\n",
       "    </tr>\n",
       "    <tr>\n",
       "        <td style=\"padding-left: 1em; padding-right: 1em; text-align: center; vertical-align: top\">tvXM9NGfiQIEAnvkOSQo1w</td>\n",
       "        <td style=\"padding-left: 1em; padding-right: 1em; text-align: center; vertical-align: top\">j_pce4pG9krrBeYwUni8Pg</td>\n",
       "        <td style=\"padding-left: 1em; padding-right: 1em; text-align: center; vertical-align: top\">3.51211473543</td>\n",
       "        <td style=\"padding-left: 1em; padding-right: 1em; text-align: center; vertical-align: top\">5</td>\n",
       "    </tr>\n",
       "    <tr>\n",
       "        <td style=\"padding-left: 1em; padding-right: 1em; text-align: center; vertical-align: top\">tvXM9NGfiQIEAnvkOSQo1w</td>\n",
       "        <td style=\"padding-left: 1em; padding-right: 1em; text-align: center; vertical-align: top\">7h0-KtLbYH1gu6QBv_-jxg</td>\n",
       "        <td style=\"padding-left: 1em; padding-right: 1em; text-align: center; vertical-align: top\">3.51066900242</td>\n",
       "        <td style=\"padding-left: 1em; padding-right: 1em; text-align: center; vertical-align: top\">6</td>\n",
       "    </tr>\n",
       "    <tr>\n",
       "        <td style=\"padding-left: 1em; padding-right: 1em; text-align: center; vertical-align: top\">tvXM9NGfiQIEAnvkOSQo1w</td>\n",
       "        <td style=\"padding-left: 1em; padding-right: 1em; text-align: center; vertical-align: top\">itFwrNtjrQL5NPMYTeD44g</td>\n",
       "        <td style=\"padding-left: 1em; padding-right: 1em; text-align: center; vertical-align: top\">3.51005444128</td>\n",
       "        <td style=\"padding-left: 1em; padding-right: 1em; text-align: center; vertical-align: top\">7</td>\n",
       "    </tr>\n",
       "    <tr>\n",
       "        <td style=\"padding-left: 1em; padding-right: 1em; text-align: center; vertical-align: top\">tvXM9NGfiQIEAnvkOSQo1w</td>\n",
       "        <td style=\"padding-left: 1em; padding-right: 1em; text-align: center; vertical-align: top\">jlLCgHVC3gzCkfnlxuUZHA</td>\n",
       "        <td style=\"padding-left: 1em; padding-right: 1em; text-align: center; vertical-align: top\">3.51000080455</td>\n",
       "        <td style=\"padding-left: 1em; padding-right: 1em; text-align: center; vertical-align: top\">8</td>\n",
       "    </tr>\n",
       "    <tr>\n",
       "        <td style=\"padding-left: 1em; padding-right: 1em; text-align: center; vertical-align: top\">tvXM9NGfiQIEAnvkOSQo1w</td>\n",
       "        <td style=\"padding-left: 1em; padding-right: 1em; text-align: center; vertical-align: top\">OHsuvX4rmhnPvvRBb-QK7A</td>\n",
       "        <td style=\"padding-left: 1em; padding-right: 1em; text-align: center; vertical-align: top\">3.50929973472</td>\n",
       "        <td style=\"padding-left: 1em; padding-right: 1em; text-align: center; vertical-align: top\">9</td>\n",
       "    </tr>\n",
       "    <tr>\n",
       "        <td style=\"padding-left: 1em; padding-right: 1em; text-align: center; vertical-align: top\">tvXM9NGfiQIEAnvkOSQo1w</td>\n",
       "        <td style=\"padding-left: 1em; padding-right: 1em; text-align: center; vertical-align: top\">lliksv-tglfUz1T3B3vgvA</td>\n",
       "        <td style=\"padding-left: 1em; padding-right: 1em; text-align: center; vertical-align: top\">3.50911319453</td>\n",
       "        <td style=\"padding-left: 1em; padding-right: 1em; text-align: center; vertical-align: top\">10</td>\n",
       "    </tr>\n",
       "</table>\n",
       "[1170 rows x 4 columns]<br/>Note: Only the head of the SFrame is printed.<br/>You can use print_rows(num_rows=m, num_columns=n) to print more rows and columns.\n",
       "</div>"
      ],
      "text/plain": [
       "Columns:\n",
       "\tuser_id\tstr\n",
       "\titem_id\tstr\n",
       "\tscore\tfloat\n",
       "\trank\tint\n",
       "\n",
       "Rows: 1170\n",
       "\n",
       "Data:\n",
       "+------------------------+------------------------+---------------+------+\n",
       "|        user_id         |        item_id         |     score     | rank |\n",
       "+------------------------+------------------------+---------------+------+\n",
       "| tvXM9NGfiQIEAnvkOSQo1w | U2dZYCgkuS9SGgyKaCUlbQ |  3.5911135989 |  1   |\n",
       "| tvXM9NGfiQIEAnvkOSQo1w | 3AlN2XZ0I0F8650y2yjLWA | 3.58434148167 |  2   |\n",
       "| tvXM9NGfiQIEAnvkOSQo1w | l3L25Yg_8E11tsS2D8ml-g |  3.5401365516 |  3   |\n",
       "| tvXM9NGfiQIEAnvkOSQo1w | sIyHTizqAiGu12XMLX3N3g | 3.51550889213 |  4   |\n",
       "| tvXM9NGfiQIEAnvkOSQo1w | j_pce4pG9krrBeYwUni8Pg | 3.51211473543 |  5   |\n",
       "| tvXM9NGfiQIEAnvkOSQo1w | 7h0-KtLbYH1gu6QBv_-jxg | 3.51066900242 |  6   |\n",
       "| tvXM9NGfiQIEAnvkOSQo1w | itFwrNtjrQL5NPMYTeD44g | 3.51005444128 |  7   |\n",
       "| tvXM9NGfiQIEAnvkOSQo1w | jlLCgHVC3gzCkfnlxuUZHA | 3.51000080455 |  8   |\n",
       "| tvXM9NGfiQIEAnvkOSQo1w | OHsuvX4rmhnPvvRBb-QK7A | 3.50929973472 |  9   |\n",
       "| tvXM9NGfiQIEAnvkOSQo1w | lliksv-tglfUz1T3B3vgvA | 3.50911319453 |  10  |\n",
       "+------------------------+------------------------+---------------+------+\n",
       "[1170 rows x 4 columns]\n",
       "Note: Only the head of the SFrame is printed.\n",
       "You can use print_rows(num_rows=m, num_columns=n) to print more rows and columns."
      ]
     },
     "execution_count": 5,
     "metadata": {},
     "output_type": "execute_result"
    }
   ],
   "source": [
    "recs"
   ]
  },
  {
   "cell_type": "code",
   "execution_count": 9,
   "metadata": {
    "collapsed": false
   },
   "outputs": [],
   "source": [
    "@gl.deploy.required_packages(['mysql-connector-python'])\n",
    "def persist_to_db(recs, dbhost, dbuser, dbpass, dbport, dbtable, dbname):\n",
    "    import mysql.connector\n",
    "    from mysql.connector import errorcode\n",
    "    \n",
    "    conn = mysql.connector.connect(host=dbhost, user=dbuser, password=dbpass, port=dbport)\n",
    "    conn.database = dbname\n",
    "    cursor = conn.cursor()\n",
    "    # this example expects the table to be empty, minor changes here if you want to \n",
    "    # update existing users' recommendations instead.\n",
    "    add_row_sql = (\"INSERT INTO \" + dbtable + \" (user_id, item_id, score, rank) \"\n",
    "                   \"VALUES (%(user_id)s, %(item_id)s, %(score)s, %(rank)s)\")\n",
    "\n",
    "    print \"Begin - Writing recommendations to DB....\"\n",
    "    for row in recs:\n",
    "        cursor.execute(add_row_sql, row)\n",
    "    print \"End - Writing recommendations to DB....\"\n",
    "    \n",
    "    # commit recommendations to database\n",
    "    conn.commit()"
   ]
  },
  {
   "cell_type": "code",
   "execution_count": 10,
   "metadata": {
    "collapsed": false
   },
   "outputs": [
    {
     "name": "stderr",
     "output_type": "stream",
     "text": [
      "[INFO] graphlab.deploy.job: Validating job.\n",
      "INFO:graphlab.deploy.job:Validating job.\n",
      "[INFO] graphlab.deploy.job: Validation complete. Job: 'persist_to_db-Jun-25-2016-12-28-54' ready for execution.\n",
      "INFO:graphlab.deploy.job:Validation complete. Job: 'persist_to_db-Jun-25-2016-12-28-54' ready for execution.\n",
      "[INFO] graphlab.deploy.job: Job: 'persist_to_db-Jun-25-2016-12-28-54' scheduled.\n",
      "INFO:graphlab.deploy.job:Job: 'persist_to_db-Jun-25-2016-12-28-54' scheduled.\n",
      "[INFO] graphlab.deploy._job: Waiting for job to finish, this may take quite a while.\n",
      "INFO:graphlab.deploy._job:Waiting for job to finish, this may take quite a while.\n",
      "[INFO] graphlab.deploy._job: You may CTRL-C to stop this command and it will not cancel your job.\n",
      "INFO:graphlab.deploy._job:You may CTRL-C to stop this command and it will not cancel your job.\n"
     ]
    }
   ],
   "source": [
    "job = gl.deploy.job.create(persist_to_db, \n",
    "                 recs = recs,\n",
    "                 dbhost = '127.0.0.1', # change these db params appropriately\n",
    "                 dbuser = 'root',\n",
    "                 dbpass = '',\n",
    "                 dbname = 'thesis_practice',\n",
    "                 dbport = 3306,\n",
    "                 dbtable = 'recommendations') \n",
    "\n",
    "results = job.get_results()"
   ]
  },
  {
   "cell_type": "code",
   "execution_count": 12,
   "metadata": {
    "collapsed": false
   },
   "outputs": [
    {
     "data": {
      "text/plain": [
       "u'Completed'"
      ]
     },
     "execution_count": 12,
     "metadata": {},
     "output_type": "execute_result"
    }
   ],
   "source": [
    "job.get_status()"
   ]
  },
  {
   "cell_type": "code",
   "execution_count": 13,
   "metadata": {
    "collapsed": true
   },
   "outputs": [],
   "source": [
    "results"
   ]
  },
  {
   "cell_type": "code",
   "execution_count": null,
   "metadata": {
    "collapsed": true
   },
   "outputs": [],
   "source": []
  }
 ],
 "metadata": {
  "kernelspec": {
   "display_name": "Python 2",
   "language": "python",
   "name": "python2"
  },
  "language_info": {
   "codemirror_mode": {
    "name": "ipython",
    "version": 2
   },
   "file_extension": ".py",
   "mimetype": "text/x-python",
   "name": "python",
   "nbconvert_exporter": "python",
   "pygments_lexer": "ipython2",
   "version": "2.7.11"
  }
 },
 "nbformat": 4,
 "nbformat_minor": 0
}
